{
  "metadata": {
    "kernelspec": {
      "language": "python",
      "display_name": "Python 3",
      "name": "python3"
    },
    "language_info": {
      "name": "python",
      "version": "3.10.12",
      "mimetype": "text/x-python",
      "codemirror_mode": {
        "name": "ipython",
        "version": 3
      },
      "pygments_lexer": "ipython3",
      "nbconvert_exporter": "python",
      "file_extension": ".py"
    },
    "kaggle": {
      "accelerator": "none",
      "dataSources": [
        {
          "sourceId": 4508,
          "sourceType": "datasetVersion",
          "datasetId": 138
        }
      ],
      "dockerImageVersionId": 30839,
      "isInternetEnabled": true,
      "language": "python",
      "sourceType": "notebook",
      "isGpuEnabled": false
    },
    "colab": {
      "provenance": []
    }
  },
  "nbformat_minor": 0,
  "nbformat": 4,
  "cells": [
    {
      "cell_type": "code",
      "source": [
        "import pandas as pd\n",
        "import numpy as np\n",
        "from sklearn import preprocessing\n",
        "from sklearn.feature_extraction.text import CountVectorizer\n",
        "from sklearn.metrics.pairwise import cosine_similarity\n",
        "from nltk.stem.porter import PorterStemmer\n",
        "import pickle"
      ],
      "metadata": {
        "_uuid": "8f2839f25d086af736a60e9eeb907d3b93b6e0e5",
        "_cell_guid": "b1076dfc-b9ad-4769-8c92-a6c4dae69d19",
        "trusted": true,
        "execution": {
          "iopub.status.busy": "2025-02-19T09:32:04.204044Z",
          "iopub.execute_input": "2025-02-19T09:32:04.204415Z",
          "iopub.status.idle": "2025-02-19T09:32:07.408668Z",
          "shell.execute_reply.started": "2025-02-19T09:32:04.204328Z",
          "shell.execute_reply": "2025-02-19T09:32:07.405894Z"
        },
        "id": "B2B24sdSjwB1"
      },
      "outputs": [],
      "execution_count": null
    },
    {
      "cell_type": "code",
      "source": [
        "movies_data = pd.read_csv(\"/content/tmdb_5000_movies.csv\")\n",
        "credits_data = pd.read_csv(\"/content/tmdb_5000_credits.csv\")\n",
        "\n",
        "movies_data = movies_data.merge(credits_data, on = \"title\")"
      ],
      "metadata": {
        "trusted": true,
        "execution": {
          "iopub.status.busy": "2025-02-19T09:32:07.409685Z",
          "iopub.execute_input": "2025-02-19T09:32:07.41031Z",
          "iopub.status.idle": "2025-02-19T09:32:08.616756Z",
          "shell.execute_reply.started": "2025-02-19T09:32:07.410249Z",
          "shell.execute_reply": "2025-02-19T09:32:08.615445Z"
        },
        "id": "SWu9alXajwB2"
      },
      "outputs": [],
      "execution_count": null
    },
    {
      "cell_type": "code",
      "source": [
        "movies_data.info()"
      ],
      "metadata": {
        "trusted": true,
        "execution": {
          "iopub.status.busy": "2025-02-19T09:32:08.619956Z",
          "iopub.execute_input": "2025-02-19T09:32:08.620428Z",
          "iopub.status.idle": "2025-02-19T09:32:08.655013Z",
          "shell.execute_reply.started": "2025-02-19T09:32:08.62039Z",
          "shell.execute_reply": "2025-02-19T09:32:08.653708Z"
        },
        "id": "4VTWpTIajwB2",
        "outputId": "c22743e9-1a8c-4aa0-f90a-7d2df852ebf9",
        "colab": {
          "base_uri": "https://localhost:8080/"
        }
      },
      "outputs": [
        {
          "output_type": "stream",
          "name": "stdout",
          "text": [
            "<class 'pandas.core.frame.DataFrame'>\n",
            "RangeIndex: 1964 entries, 0 to 1963\n",
            "Data columns (total 23 columns):\n",
            " #   Column                Non-Null Count  Dtype  \n",
            "---  ------                --------------  -----  \n",
            " 0   budget                1964 non-null   int64  \n",
            " 1   genres                1964 non-null   object \n",
            " 2   homepage              851 non-null    object \n",
            " 3   id                    1964 non-null   int64  \n",
            " 4   keywords              1964 non-null   object \n",
            " 5   original_language     1964 non-null   object \n",
            " 6   original_title        1964 non-null   object \n",
            " 7   overview              1964 non-null   object \n",
            " 8   popularity            1964 non-null   float64\n",
            " 9   production_companies  1964 non-null   object \n",
            " 10  production_countries  1964 non-null   object \n",
            " 11  release_date          1964 non-null   object \n",
            " 12  revenue               1964 non-null   int64  \n",
            " 13  runtime               1964 non-null   float64\n",
            " 14  spoken_languages      1964 non-null   object \n",
            " 15  status                1964 non-null   object \n",
            " 16  tagline               1836 non-null   object \n",
            " 17  title                 1964 non-null   object \n",
            " 18  vote_average          1964 non-null   float64\n",
            " 19  vote_count            1964 non-null   int64  \n",
            " 20  movie_id              1964 non-null   int64  \n",
            " 21  cast                  1964 non-null   object \n",
            " 22  crew                  1964 non-null   object \n",
            "dtypes: float64(3), int64(5), object(15)\n",
            "memory usage: 353.0+ KB\n"
          ]
        }
      ],
      "execution_count": null
    },
    {
      "cell_type": "code",
      "source": [
        "good_cols = ['id' , 'title', 'genres', 'overview', 'keywords', 'cast', 'crew']\n",
        "num_good_cols = ['release_date', 'revenue']\n",
        "movie_data = movies_data[good_cols].copy()\n",
        "movie_data = movie_data.dropna()\n",
        "movie_data['crew'].iloc[1]"
      ],
      "metadata": {
        "trusted": true,
        "execution": {
          "iopub.status.busy": "2025-02-19T09:32:08.656575Z",
          "iopub.execute_input": "2025-02-19T09:32:08.656889Z",
          "iopub.status.idle": "2025-02-19T09:32:08.682998Z",
          "shell.execute_reply.started": "2025-02-19T09:32:08.656862Z",
          "shell.execute_reply": "2025-02-19T09:32:08.681334Z"
        },
        "id": "Rxd9V5GUjwB4",
        "outputId": "d84d5732-43fe-4795-c89a-bde0383b35a4",
        "colab": {
          "base_uri": "https://localhost:8080/",
          "height": 139
        }
      },
      "outputs": [
        {
          "output_type": "execute_result",
          "data": {
            "text/plain": [
              "'[{\"credit_id\": \"52fe4232c3a36847f800b579\", \"department\": \"Camera\", \"gender\": 2, \"id\": 120, \"job\": \"Director of Photography\", \"name\": \"Dariusz Wolski\"}, {\"credit_id\": \"52fe4232c3a36847f800b4fd\", \"department\": \"Directing\", \"gender\": 2, \"id\": 1704, \"job\": \"Director\", \"name\": \"Gore Verbinski\"}, {\"credit_id\": \"52fe4232c3a36847f800b54f\", \"department\": \"Production\", \"gender\": 2, \"id\": 770, \"job\": \"Producer\", \"name\": \"Jerry Bruckheimer\"}, {\"credit_id\": \"52fe4232c3a36847f800b503\", \"department\": \"Writing\", \"gender\": 2, \"id\": 1705, \"job\": \"Screenplay\", \"name\": \"Ted Elliott\"}, {\"credit_id\": \"52fe4232c3a36847f800b509\", \"department\": \"Writing\", \"gender\": 2, \"id\": 1706, \"job\": \"Screenplay\", \"name\": \"Terry Rossio\"}, {\"credit_id\": \"52fe4232c3a36847f800b57f\", \"department\": \"Editing\", \"gender\": 0, \"id\": 1721, \"job\": \"Editor\", \"name\": \"Stephen E. Rivkin\"}, {\"credit_id\": \"52fe4232c3a36847f800b585\", \"department\": \"Editing\", \"gender\": 2, \"id\": 1722, \"job\": \"Editor\", \"name\": \"Craig Wood\"}, {\"credit_id\": \"52fe4232c3a36847f800b573\", \"department\": \"Sound\", \"gender\": 2, \"id\": 947, \"job\": \"Original Music Composer\", \"name\": \"Hans Zimmer\"}, {\"credit_id\": \"52fe4232c3a36847f800b555\", \"department\": \"Production\", \"gender\": 2, \"id\": 2444, \"job\": \"Executive Producer\", \"name\": \"Mike Stenson\"}, {\"credit_id\": \"52fe4232c3a36847f800b561\", \"department\": \"Production\", \"gender\": 2, \"id\": 2445, \"job\": \"Producer\", \"name\": \"Eric McLeod\"}, {\"credit_id\": \"52fe4232c3a36847f800b55b\", \"department\": \"Production\", \"gender\": 2, \"id\": 2446, \"job\": \"Producer\", \"name\": \"Chad Oman\"}, {\"credit_id\": \"52fe4232c3a36847f800b567\", \"department\": \"Production\", \"gender\": 0, \"id\": 2447, \"job\": \"Producer\", \"name\": \"Peter Kohn\"}, {\"credit_id\": \"52fe4232c3a36847f800b56d\", \"department\": \"Production\", \"gender\": 0, \"id\": 2448, \"job\": \"Producer\", \"name\": \"Pat Sandston\"}, {\"credit_id\": \"52fe4232c3a36847f800b58b\", \"department\": \"Production\", \"gender\": 1, \"id\": 2215, \"job\": \"Casting\", \"name\": \"Denise Chamian\"}, {\"credit_id\": \"52fe4232c3a36847f800b597\", \"department\": \"Art\", \"gender\": 2, \"id\": 1226, \"job\": \"Production Design\", \"name\": \"Rick Heinrichs\"}, {\"credit_id\": \"52fe4232c3a36847f800b59d\", \"department\": \"Art\", \"gender\": 2, \"id\": 553, \"job\": \"Art Direction\", \"name\": \"John Dexter\"}, {\"credit_id\": \"52fe4232c3a36847f800b591\", \"department\": \"Production\", \"gender\": 1, \"id\": 3311, \"job\": \"Casting\", \"name\": \"Priscilla John\"}, {\"credit_id\": \"52fe4232c3a36847f800b5a3\", \"department\": \"Art\", \"gender\": 1, \"id\": 4032, \"job\": \"Set Decoration\", \"name\": \"Cheryl Carasik\"}, {\"credit_id\": \"52fe4232c3a36847f800b5a9\", \"department\": \"Costume & Make-Up\", \"gender\": 0, \"id\": 4033, \"job\": \"Costume Design\", \"name\": \"Liz Dann\"}, {\"credit_id\": \"52fe4232c3a36847f800b5af\", \"department\": \"Costume & Make-Up\", \"gender\": 1, \"id\": 4034, \"job\": \"Costume Design\", \"name\": \"Penny Rose\"}, {\"credit_id\": \"56427ce8c3a3686a53000d8b\", \"department\": \"Sound\", \"gender\": 2, \"id\": 5132, \"job\": \"Music Supervisor\", \"name\": \"Bob Badami\"}, {\"credit_id\": \"55993c15c3a36855db002f33\", \"department\": \"Art\", \"gender\": 2, \"id\": 146439, \"job\": \"Conceptual Design\", \"name\": \"James Ward Byrkit\"}, {\"credit_id\": \"52fe4232c3a36847f800b5b9\", \"department\": \"Costume & Make-Up\", \"gender\": 1, \"id\": 406204, \"job\": \"Makeup Department Head\", \"name\": \"Ve Neill\"}, {\"credit_id\": \"56e47f7892514132690017bd\", \"department\": \"Crew\", \"gender\": 2, \"id\": 1259516, \"job\": \"Stunts\", \"name\": \"John Dixon\"}, {\"credit_id\": \"5740be639251416597000849\", \"department\": \"Crew\", \"gender\": 0, \"id\": 1336716, \"job\": \"CGI Supervisor\", \"name\": \"Dottie Starling\"}, {\"credit_id\": \"56427c639251412fc8000dc1\", \"department\": \"Directing\", \"gender\": 1, \"id\": 1344278, \"job\": \"Script Supervisor\", \"name\": \"Pamela Alch\"}, {\"credit_id\": \"57083101c3a3681d320004e6\", \"department\": \"Crew\", \"gender\": 0, \"id\": 1368867, \"job\": \"Special Effects Coordinator\", \"name\": \"Allen Hall\"}, {\"credit_id\": \"56427d5ec3a3686a62000d4a\", \"department\": \"Sound\", \"gender\": 0, \"id\": 1368884, \"job\": \"Music Editor\", \"name\": \"Melissa Muik\"}, {\"credit_id\": \"56427c7b9251412fd4000e07\", \"department\": \"Directing\", \"gender\": 1, \"id\": 1395290, \"job\": \"Script Supervisor\", \"name\": \"Sharron Reynolds\"}, {\"credit_id\": \"56427d2bc3a3686a53000d9b\", \"department\": \"Sound\", \"gender\": 0, \"id\": 1399327, \"job\": \"Music Editor\", \"name\": \"Barbara McDermott\"}, {\"credit_id\": \"56427cb4c3a3686a53000d87\", \"department\": \"Directing\", \"gender\": 1, \"id\": 1400738, \"job\": \"Script Supervisor\", \"name\": \"Karen Golden\"}, {\"credit_id\": \"56427d169251412fd4000e23\", \"department\": \"Sound\", \"gender\": 0, \"id\": 1534197, \"job\": \"Music Editor\", \"name\": \"Katie Greathouse\"}]'"
            ],
            "application/vnd.google.colaboratory.intrinsic+json": {
              "type": "string"
            }
          },
          "metadata": {},
          "execution_count": 20
        }
      ],
      "execution_count": null
    },
    {
      "cell_type": "code",
      "source": [
        "import ast\n",
        "def helper(obj):\n",
        "    L=[]\n",
        "    for i in ast.literal_eval(obj):\n",
        "        L.append(i['name'])\n",
        "    return L\n",
        "\n",
        "def helper_cast(obj):\n",
        "    L=[]\n",
        "    f=0\n",
        "    for i in ast.literal_eval(obj):\n",
        "      if(f!=3):\n",
        "        L.append(i['name'])\n",
        "        f =f+1\n",
        "      else:\n",
        "        break\n",
        "    return L\n",
        "\n",
        "def fetch_names(obj):\n",
        "    L=[]\n",
        "    for i in ast.literal_eval(obj):\n",
        "        if(i['job'] == 'Director'):\n",
        "            L.append(i['name'])\n",
        "            break\n",
        "    return L\n",
        "\n",
        "def return_names(obj):\n",
        "  return \" \".join(obj)\n",
        "\n"
      ],
      "metadata": {
        "trusted": true,
        "execution": {
          "iopub.status.busy": "2025-02-19T09:32:08.684308Z",
          "iopub.execute_input": "2025-02-19T09:32:08.684718Z",
          "iopub.status.idle": "2025-02-19T09:32:08.695508Z",
          "shell.execute_reply.started": "2025-02-19T09:32:08.684682Z",
          "shell.execute_reply": "2025-02-19T09:32:08.693945Z"
        },
        "id": "z4GgB2xbjwB5"
      },
      "outputs": [],
      "execution_count": null
    },
    {
      "cell_type": "code",
      "source": [
        "movie_data[\"genres\"] = movie_data[\"genres\"].apply(helper)\n",
        "movie_data[\"keywords\"] = movie_data[\"keywords\"].apply(helper)\n",
        "movie_data[\"crew\"] = movie_data['crew'].apply(fetch_names)\n",
        "movie_data[\"cast\"] = movie_data[\"cast\"].apply(helper_cast)\n",
        "movie_data[\"overview\"] = movie_data['overview'].apply(lambda x: x.split())\n",
        "movie_data[\"title\"] = movie_data['title'].apply(lambda x: x.split())"
      ],
      "metadata": {
        "id": "KD7XXdRXnoYV"
      },
      "execution_count": null,
      "outputs": []
    },
    {
      "cell_type": "code",
      "source": [
        "movie_data[\"genres\"] = movie_data['genres'].apply(lambda x: [i.replace(\" \", \"\") for i in x])\n",
        "movie_data[\"keywords\"] = movie_data['keywords'].apply(lambda x: [i.replace(\" \", \"\") for i in x])\n",
        "movie_data[\"cast\"] = movie_data['cast'].apply(lambda x: [i.replace(\" \", \"\") for i in x])\n",
        "movie_data[\"overview\"] = movie_data['overview'].apply(lambda x: [i.replace(\" \", \"\") for i in x])\n",
        "movie_data[\"crew\"] = movie_data['crew'].apply(lambda x: [i.replace(\" \", \"\") for i in x])\n",
        "\n"
      ],
      "metadata": {
        "trusted": true,
        "id": "HCqQXOJ3jwB7"
      },
      "outputs": [],
      "execution_count": null
    },
    {
      "cell_type": "code",
      "source": [
        "movie_data[\"tags\"] = movie_data['title'] + movie_data[\"genres\"]  + movie_data[\"keywords\"]  + movie_data[\"cast\"]  + movie_data[\"crew\"]"
      ],
      "metadata": {
        "trusted": true,
        "id": "LASdeNsojwB8"
      },
      "outputs": [],
      "execution_count": null
    },
    {
      "cell_type": "code",
      "source": [
        "movie_data[\"title\"] = movie_data[\"title\"].apply(lambda x: \" \".join(x))"
      ],
      "metadata": {
        "id": "zLZExQUvxqqO"
      },
      "execution_count": null,
      "outputs": []
    },
    {
      "cell_type": "code",
      "source": [
        "df = movie_data[['id','title', 'tags']]\n",
        "df[\"tags\"] = df[\"tags\"].apply(lambda x: \" \".join(x))"
      ],
      "metadata": {
        "id": "faE9iT56yF5-",
        "outputId": "1f15db6b-391e-402a-8663-98046ea3ba05",
        "colab": {
          "base_uri": "https://localhost:8080/"
        }
      },
      "execution_count": null,
      "outputs": [
        {
          "output_type": "stream",
          "name": "stderr",
          "text": [
            "<ipython-input-63-e29e0ee5f39b>:2: SettingWithCopyWarning: \n",
            "A value is trying to be set on a copy of a slice from a DataFrame.\n",
            "Try using .loc[row_indexer,col_indexer] = value instead\n",
            "\n",
            "See the caveats in the documentation: https://pandas.pydata.org/pandas-docs/stable/user_guide/indexing.html#returning-a-view-versus-a-copy\n",
            "  df[\"tags\"] = df[\"tags\"].apply(lambda x: \" \".join(x))\n"
          ]
        }
      ]
    },
    {
      "cell_type": "code",
      "source": [
        "cv = CountVectorizer(max_features = 5000, stop_words = 'english')\n",
        "vectors = cv.fit_transform(df['tags']).toarray()"
      ],
      "metadata": {
        "trusted": true,
        "id": "VxscCpnpjwB9"
      },
      "outputs": [],
      "execution_count": null
    },
    {
      "cell_type": "code",
      "source": [
        "ps = PorterStemmer()\n",
        "def stem_text(text):\n",
        "    y = []\n",
        "\n",
        "    for i in text.split():\n",
        "        y.append(ps.stem(i))\n",
        "    return \" \".join(y)\n",
        "\n",
        "df['tags'] = df['tags'].apply(stem_text)\n"
      ],
      "metadata": {
        "trusted": true,
        "id": "SgQKHCgajwB9",
        "outputId": "7816c358-9b47-4361-e28f-dcec7787ca1d",
        "colab": {
          "base_uri": "https://localhost:8080/"
        }
      },
      "outputs": [
        {
          "output_type": "stream",
          "name": "stderr",
          "text": [
            "<ipython-input-67-5be87088cb73>:9: SettingWithCopyWarning: \n",
            "A value is trying to be set on a copy of a slice from a DataFrame.\n",
            "Try using .loc[row_indexer,col_indexer] = value instead\n",
            "\n",
            "See the caveats in the documentation: https://pandas.pydata.org/pandas-docs/stable/user_guide/indexing.html#returning-a-view-versus-a-copy\n",
            "  df['tags'] = df['tags'].apply(stem_text)\n"
          ]
        }
      ],
      "execution_count": null
    },
    {
      "cell_type": "code",
      "source": [
        "sim = cosine_similarity(vectors)"
      ],
      "metadata": {
        "trusted": true,
        "id": "orGx4JfojwB-"
      },
      "outputs": [],
      "execution_count": null
    },
    {
      "cell_type": "code",
      "source": [
        "def recommend(movie):\n",
        "    index = movie_data[movie_data[\"title\"] == movie].index[0]\n",
        "    sm = sim[index]\n",
        "    m_list = sorted(list(enumerate(sm)), reverse = True, key = lambda x: x[1])[1:6]\n",
        "\n",
        "    for i in m_list():\n",
        "        print(df.iloc[i[0]].title)\n"
      ],
      "metadata": {
        "trusted": true,
        "id": "AN0MzciDjwB-"
      },
      "outputs": [],
      "execution_count": null
    },
    {
      "cell_type": "code",
      "source": [
        "pickle.dump(df, open(\"movies.pkl\", 'wb'))\n",
        "pickle.dump(df.to_dict(), open(\"movie_dict.pkl\", 'wb'))\n",
        "pickle.dump(sim, open(\"similarity.pkl\", 'wb'))"
      ],
      "metadata": {
        "trusted": true,
        "id": "ZOoAl3zzjwB-"
      },
      "outputs": [],
      "execution_count": null
    }
  ]
}